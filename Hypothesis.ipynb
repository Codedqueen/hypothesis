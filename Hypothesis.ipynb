{
 "cells": [
  {
   "cell_type": "markdown",
   "id": "3461412f-4782-427f-a4e4-d29be3cd1c06",
   "metadata": {},
   "source": [
    "## HYPOTHESIS"
   ]
  },
  {
   "cell_type": "markdown",
   "id": "3486503d-88df-4b63-93a7-a46a3ea0c3a0",
   "metadata": {},
   "source": [
    "### combinatorics"
   ]
  },
  {
   "cell_type": "markdown",
   "id": "bfc9fd8d-4e67-4558-ae35-0320bdbef1ab",
   "metadata": {},
   "source": [
    "##### Combinatorics is an area of mathematics primarily concerned with counting, both as a means and an end in obtaining results, and certain properties of finite ...\n",
    "##### ‎Enumerative combinatorics · ‎Algebraic combinatorics · ‎Arithmetic combinatorics.\n",
    "##### We will be discussing combinatorics in relation to probabilities.\n",
    "##### Combinatorics deals with combination of objects from a specific finite set.\n",
    "##### We will also discuss certain restrictions that can be applied to form combinations.\n",
    "##### These restictions can be inform of repitition, order or a different criterial.\n",
    "##### We will explore the 3 integral parts of combinatorics namely :\n",
    "##### Pemutations \n",
    "##### Variations\n",
    "##### combinations\n",
    "##### We will use each of this part to determine the number of favourable outcome or \n",
    "##### The number of all the elements in a sample space\n",
    "##### Earlier we spoke about winning a lottery but we did not explain the whole computational process\n",
    "##### with the lecture in this session, we will be able to do such calculations personally."
   ]
  },
  {
   "cell_type": "markdown",
   "id": "6034a49b-c5af-497c-aeac-ea2fb735a9f4",
   "metadata": {},
   "source": [
    "### Computing Permutations"
   ]
  },
  {
   "cell_type": "markdown",
   "id": "a79e1b47-74cf-454b-b9bb-ed43744d9870",
   "metadata": {},
   "source": [
    "##### Pemutations is one of the commonly used part of combinatorics\n",
    "##### Pemutations represents the number of possible ways we can arrange a set  of elements.\n",
    "##### These elements can be digits, letters or even people.\n",
    "##### Example : formula  1\n",
    "##### Imagine you havent watched the latest formula 1 race but your frinds knows who the 3 drivers on the race are\n",
    "##### 'LEWIS' ,'MAX' and 'KIMI', a pemutation of 3 denoted p of 3, P(3) would express the total number of different ways these drivers can split the medals among themselves.\n",
    "##### Suppose Lewis won the race , then we will have two possible scenario, Max will come 2nd and Kimi finished 3rd.\n",
    "##### or Kimi finished 2nd and Max finished 3rd.\n",
    "##### Suppose max won , we will still have 2 possible outcomes but this time , it will be Lewis and Kimi who will split the silver and bronze\n",
    "##### Either Kimi gets Silver and Lewis gets bronze ort he other way round.\n",
    "##### If Kimi won the race we will have two more ways the drivers can be arannged in the podium, either Max gets silver and Lewis bronze\n",
    "##### or Lewis gets silver and Max bronze\n",
    "##### this leaves us with 6 different ways these 3 drivers will split the the top 3 medals.\n",
    "##### We call this 6 ways pemutations\n",
    "##### How to compute Permutations for a finite set of any size in different situations\n",
    "##### THe intuitions behind the total number of pemutation\n",
    "##### For a set of n = many elements, we start filling up the positions one by one,the order in which we fill \n",
    "##### them up is completely up to us.\n",
    "##### lets start with the 1st one that represents the race winner in our example,\n",
    "##### Since anybody out of the 3 drivers could have won the race , we have n = different possible winners\n",
    "##### n - 1 possible drivers left and any one of those can finish 2nd\n",
    "##### Regardless of which out of the n element we choose to take the first slot\n",
    "##### We have n-1 , many possibility for the second slot\n",
    "##### Similarly, we will have n - 2 possibility outcomes for who finishes 3rd and so on.\n",
    "##### The further down the ranking we go the more options we exhaust\n",
    "##### and the more options we exhausts the fewer options left, this trend continues until we get to the last element\n",
    "##### Which we will only have a single option available.\n",
    "##### Therefore, mathematically, the number of pemutation\n",
    "##### Pn = product of n and minus 1 multiply by n - 2, multiply by n- 2 x,,,,x1 until 1 and we denote this factor as n!( n factorials)\n",
    "##### Pn = (n-1) x ( n - 2) x .....x 1 = n!"
   ]
  },
  {
   "cell_type": "markdown",
   "id": "33820742-2b9a-4143-8b02-b95b0a331d81",
   "metadata": {},
   "source": [
    "### Solving Factorials"
   ]
  },
  {
   "cell_type": "markdown",
   "id": "f7225b7a-6799-4042-80bf-470a9462fbd5",
   "metadata": {},
   "source": [
    "##### THe notion n! (factorial) is the product of the natural number from 1 t0 n\n",
    "##### This means n! = 1 x 2 x 3 x ...x n\n",
    "##### FOr instance 3! =6 , ie 3! = 1 x 2 x 3 = 6"
   ]
  },
  {
   "cell_type": "markdown",
   "id": "76f30b56-042a-4f26-9b51-145802e083b6",
   "metadata": {},
   "source": [
    "##### Important properties of factorial mathematics\n",
    "##### it is important to note that there is one odd characterictics\n",
    "##### Negative numbers dont have a factorial\n",
    "##### 0! = 1 by definition"
   ]
  },
  {
   "cell_type": "markdown",
   "id": "9c23a57d-7b44-498f-b3b2-1682bfd45d3e",
   "metadata": {},
   "source": [
    "##### Important properties of factorial mathematics\n",
    "##### For any natural number n we kno that n! = (n- 1)! x n\n",
    "##### Similarly, (n+1)! = n! x (n + 1 )\n",
    "##### For example, 6! = 5! x 6\n",
    "##### In thesame way 7 factorial = 6! + 7\n",
    "##### This notion can be expanded further to explain (n+k)! and (n-k)!\n",
    "##### In mathematical terms ,this is equivalent to (n + k)! = n! x (n+1)! x (n + 2)! x ....x(n + k)!  up to k\n",
    "##### Similarly,(n-k)! = !n  /( n-k + 1) x (n - k + 2)! x....x(n - k + k) = n ie\n",
    "##### ie (n-k)! = !n  /( n-k + 1) x (n - k + 2)! x....xn\n",
    "##### for instance, if n = 5 and k =2, therefore ,(5 + 2) ! = 7\n",
    "##### 7! = 5! x 6! x 7!\n",
    "##### Also, (5- 2)! = 3! or \n",
    "##### (5-2)! = 5!/4 x 5 "
   ]
  },
  {
   "cell_type": "markdown",
   "id": "97369588-09fc-4d04-a154-e367b966c757",
   "metadata": {},
   "source": [
    "##### Two factorials : \n",
    "##### An important observation , if we have 2 natural numbers, n and k and n is the greater number , n>k\n",
    "##### Then n! /k! = (k + 1) x ( k + 2) x ....x n\n",
    "##### Lets look at an example where n = 7, k =4\n",
    "##### lets apply it to the fomula above:\n",
    "##### 7!/4! = the product of the number between 1 and 7 over the product of the number between 1 - 4\n",
    "##### 7! /4!  = 1 x 2 x 3 x 4 x 5 x 6 x 7 / 1 x 2 x 3 x 4\n",
    "##### To simplify this we cross out , 1 - 4, since they occur in both part of the factorial\n",
    "##### hence, we have 7! / 4!  = 5 x 6 x 7\n",
    "##### These arethe tools that will help us handle factorial operations "
   ]
  },
  {
   "cell_type": "markdown",
   "id": "ad1074ce-b554-4e15-99f0-42c3817da9ab",
   "metadata": {},
   "source": [
    "### Variations with Repititions"
   ]
  },
  {
   "cell_type": "markdown",
   "id": "30048731-0150-4ef9-a64c-b43fb799ff2b",
   "metadata": {},
   "source": [
    "##### Variations is the total number of ways we can pick and arrange some elements of  a given set.\n",
    "##### For example, imagine you went on a trip and you forgot the code with the combination lock on your box \n",
    "##### and luckily for you the lock requires a two letter code using only the letters A, B, C.to unlock it.\n",
    "##### We can explore the different positions in a specific order.\n",
    "##### lets start with the first letter we have 3 differnt options . A, B, C.\n",
    "##### suppose we choose A and move on to the next letter, since we can repeat values ,we once again have the same options\n",
    "##### A ,B OR C, this indicates that there are 3 different variation if we decide to start with A, B and C.\n",
    "##### Suppose we choose B, we will have 3 different if we decide to start with B\n",
    "##### In general, regardless of which one of the 3 letters we decide to start with, we are going to have 3 different options \n",
    "##### for the second letter.\n",
    "##### Therfore, the total number of variations we can get is\n",
    "##### 3 x 3 = 9"
   ]
  },
  {
   "cell_type": "markdown",
   "id": "c7878507-84d5-4c89-a719-c0258b1b42e9",
   "metadata": {},
   "source": [
    "##### Notations and Formula\n",
    "##### The formula to use in calculating variation with repetition is the following\n",
    "##### Vbar of n $ p = n raise to power p\n",
    "##### Vnp = np\n",
    "##### Where n = the total number of elements we have avilable\n",
    "##### P = the number of position we need to fill\n",
    "##### the way we interprete this notion is :\n",
    "##### the number of variation with repetition when picking\n",
    "##### p- many elements is equal to n elements to the power of p\n",
    "##### If we apply it to the combination lock for eg, we will write \n",
    "##### n = 3, p = 2\n",
    "##### ie , V bar of 3 and 2 = 3 raise to power 2 which is equal to 9\n",
    "##### We interprete this as , there are 9 different Variations of 2 - letter pascodes\n",
    "##### consisting of A, B or C only\n",
    "##### What happens if the lock uses any of the 26 letters ?\n",
    "##### we will have 26 raise to the power of 2 which is 676 different variations."
   ]
  },
  {
   "cell_type": "markdown",
   "id": "376cdc5d-2ef8-45be-a3e4-c1b20735bbae",
   "metadata": {},
   "source": [
    "### Variations without Repetitions"
   ]
  },
  {
   "cell_type": "markdown",
   "id": "9455cae0-8747-4fb0-89e9-6b686d668812",
   "metadata": {},
   "source": [
    "##### Example : imagine you are a track and field coach and you need to choose 4 members of your team that will run the relay, the team consists of 5 persons\n",
    "##### with the following names, TOM, ERIC , DAVID , KEVIN, JOSH , you need to decide who the person that starts the race, who 'Anchor will be,who runs in between\n",
    "##### We have 5 members in the team, which means 5 different scenarios for who wants to start.\n",
    "##### lets say David is the best guy to start the race, that leaves us with only 4 different options for the second position\n",
    "##### namely, Tom, Eric, kevin or Josh, suppose we choose Josh to run after David , tha leaves us with 3 options for who runs 3rd, we have Tom ,Eric or Kelvin\n",
    "##### Now if we pick Kevin, we know that one of either Tom or Kevin finishes the race.\n",
    "##### BUt if we decide to choose Eric instead of kevin for the 3rd position , we still have 2 choices for who runs last, Tom or kevin.\n",
    "##### finally ,if we choose Tom  to run 3rd, we will have 2 options availabe, Eric or Kelvin\n",
    "##### Which means we would have 6 different variations for who runs the last two positions if we have chosen david and Josh to run first and second  first respectively.\n",
    "##### Regardless of who out of the 4 members we chooe to run second , we will still have 6 options for who fills up the remaining spots in the team.\n",
    "##### This suggests there are 4 x 6 or 24 different ways to arrange the 3 reamining positions if we knew David starts.\n",
    "##### What if we are sure David is the best runner to start?\n",
    "##### If somebody out of the remaining 4 persons started, we would still have 24 ways of filling out the remaining spots on the team.\n",
    "##### what happens is , the further down we go , the fewre options we are left with since nobody is permitted to run multiple legs.\n",
    "##### This is what variations without repetitions mrans, we cannot use the same persons twice.\n",
    "##### In terms of numbers we have , 5 x 4 x 3 x 2 = 120 diiferent options we can arrange our team for the competition."
   ]
  },
  {
   "cell_type": "markdown",
   "id": "f814dcde-30b8-4b7b-9d55-c0c4f686f84d",
   "metadata": {},
   "source": [
    "##### Formula for calculating variation without repetition\n",
    "##### Vnp = n! / (n- p)!\n",
    "##### the number of variations without repetitions when arranging\n",
    "##### p element out of a total o`f n is equal to n factorial divided by n minus p factorial\n",
    "##### Applying this formula to our example, p = 4, n = 5\n",
    "##### V54 = 5! / (5 - 4)!  =  5! / 1! \n",
    "##### This result 5!/ 1! = 2 x 3 x 4 x 5 = 120\n",
    "##### Note : n = 5 is the total number of the players in the team\n",
    "##### p = 4 is the actual number required for the game."
   ]
  },
  {
   "cell_type": "markdown",
   "id": "ed9c5d73-f16d-4fc3-ba9d-123bf04f1efe",
   "metadata": {},
   "source": [
    "### Combinations without Repetition"
   ]
  },
  {
   "cell_type": "markdown",
   "id": "b9b07944-3a13-4603-9e3c-638b78a66345",
   "metadata": {},
   "source": [
    "##### Combination is the number of different ways we can pick certain elements of a set.\n",
    "##### Techonology conference example 1\n",
    "##### Imagine you are trying to pick 3 people to represent your company on a very important technology related conference\n",
    "##### There are 10 people working in the office,so how many differnt combinations are there.\n",
    "##### If you have calculated this as a variation, your answer will be 720\n",
    "##### Vnp = n!/(n -p)! =\n",
    "##### V10,3 = 10!/(10-3)!=  10!/7! =  10 x 9 x 8 x 7 x 6 x 5 x 4 x3 x 2 x 1 /7 x 6 x 5 x 4 x 3 x 2 x 1 =\n",
    "##### 10 x 9 x 8 = 720\n",
    "##### This means we would be counting every group of 3 persons several times over, this is beacuse picking, Alex, Serah and Dave\n",
    "##### is the same as picking Serah, Dave and Alex\n",
    "##### VAriations dont take into account double counting element and that is where combination steps in.\n",
    "##### we can say that all the different pemutations of a single combination are different variations.\n",
    "##### Lets look at Serah, Alex and Dave example, using those 3 to represent the company is a single combination,since the order in which we pick them is not relevant\n",
    "##### Chosing Serah ,Dave and Alex is exactly same as choosing , Dave, Serah and Alex, or Dave, Alex and  Serah, or Alex, Dave and Serah, or Alex,Serah and Dave or Serah,,Dave and alex\n",
    "##### Any of the 6 pemutations we wrote is a differnt variation but not a differnt combination, and this is what we meant when we said that combination takes into account double counting.\n",
    "##### The formula for calculating it i Pn = n!\n",
    "##### P3 = 3! = 6 pemutation\n",
    "##### since n is 3 in this case ,there will be a total of 6 pemutations for choosing Alex, Dave and Serahm since variation cant be treated seperately , we are going to have 6 variations\n",
    "##### for any combination.\n",
    "##### This means we are going to end up with 6 times fewer combinations than variations\n",
    "##### Using the formula we already know. there are 720 variations\n",
    "##### In terms of combinations we 720 divided by 6 ie C10,3, = 720 / 6 = 120, so we have 120 ways of choosing who represents the company"
   ]
  },
  {
   "cell_type": "markdown",
   "id": "872edec5-add2-423a-bab3-a205db48fb21",
   "metadata": {},
   "source": [
    "##### Recall:\n",
    "##### we can say all the different pemutations of a single combination are different variations.\n",
    "##### There are 6 pemutations P6\n",
    "##### 120 combinations C10,3\n",
    "##### 720 variations V 10, 3 = 720"
   ]
  },
  {
   "cell_type": "markdown",
   "id": "fd1569fe-df42-44f8-a0f4-cc49d1c920f8",
   "metadata": {},
   "source": [
    "##### Formula\n",
    "##### what is the number of combination for choosing P-many elements out of a sample space of n -element?\n",
    "##### The number of combinations equals the number of variations over the number of pemutations\n",
    "##### Mathematically, we will write it as  Cnp = Vnp / Pp\n",
    "#### If we plug in the fomulas associated with variations and permutations we will have the following formula\n",
    "##### Cpn = n! / P! (n - p)!\n",
    "##### Lets apply this formula to our example\n",
    "##### n = 10 , P = 3\n",
    "##### C 10,3  = 10 /3! 7! = 8 x 9 x10 / 1x 2 x3 \n",
    "###### = 720 / 6  = 120\n",
    "##### "
   ]
  },
  {
   "cell_type": "markdown",
   "id": "053c0a51-0361-43f8-aca0-b788e14144f2",
   "metadata": {},
   "source": [
    "##### What if we have to choose 4 out of the 10 to go to the conference,\n",
    "##### n = 10 , P = 4\n",
    "##### According to the formula we are going to have 10 ! over 4! multiplied by 6!\n",
    "##### C10,4 = 10! / 4! x 6! = 7 x 8 x 9 x 10 / 1 x 2 x 3 x 4 = 5040 / 24 = 210\n"
   ]
  },
  {
   "cell_type": "markdown",
   "id": "7c78096c-6f6a-4bd1-9d4f-c8fad698644e",
   "metadata": {},
   "source": [
    "## Combination with repetition"
   ]
  },
  {
   "cell_type": "markdown",
   "id": "3dc84b8e-08a8-4e1a-b266-1ced163c692e",
   "metadata": {},
   "source": [
    "##### Combination represents different ways we can pick different elements on a set."
   ]
  },
  {
   "cell_type": "markdown",
   "id": "17dc8dae-ae91-409d-935a-8f9e5d94f645",
   "metadata": {},
   "source": [
    "Combinations represent the number of different possible ways we can pick a number of elements. \n",
    "\n",
    "In special cases we can have repetition in combinations and for those we use a different formula."
   ]
  },
  {
   "cell_type": "markdown",
   "id": "87c788a5-1965-42a8-9ed1-99bf9fd77eb4",
   "metadata": {},
   "source": [
    "𝐶ҧ𝑛, 𝑝 =\n",
    "(𝑛 + 𝑝 − 1)!\n",
    "(𝑛 − 1)! 𝑝!\n",
    " C = Combinations with\n",
    "repetition\n",
    "\n",
    "n = Total number of elements\n",
    "in the sample space\n",
    "\n",
    "P =Number of elements we\n",
    "need to select"
   ]
  },
  {
   "cell_type": "markdown",
   "id": "36b9c70a-6609-474c-b807-05ec07c9d0d8",
   "metadata": {},
   "source": [
    "Now that you know what the formula looks like, we are going to walk you through the process of deriving this formula from the Combinations without repetition formula.\n",
    "\n",
    "This way you will be able to fully understand the intuition behind and not have to bother memorizing it"
   ]
  },
  {
   "cell_type": "markdown",
   "id": "7bfa73c1-5edc-4421-9f83-d7f654cb246e",
   "metadata": {},
   "source": [
    "Applications of Combinations with Repetition"
   ]
  },
  {
   "cell_type": "markdown",
   "id": "3cfd5e1f-5993-4056-b5df-f0971062d8ba",
   "metadata": {},
   "source": [
    "To understand how combinations with repetition work you need to understand the instances where they occur\n",
    "We use combinations with repetition when the events\n",
    "we are dealing with, have sufficient quantity of each of\n",
    "the distinct values in the sample space.\n",
    "One such example is the toppings on a pizza.\n",
    "We can order extra of any given topping, so repetition\n",
    "is allowed. However, we do not care about the order in\n",
    "which the toppings are put on top of the pizza, so we\n",
    "cannot use variations.\n",
    "Similar examples include picking the ice-cream\n",
    "flavours for a Sundae melt or the players for a Fanttasy\n",
    "Football Team."
   ]
  },
  {
   "cell_type": "markdown",
   "id": "5fcb6919-404d-4d77-ac36-7f474f8fd46f",
   "metadata": {},
   "source": [
    "Pizza Example"
   ]
  },
  {
   "cell_type": "markdown",
   "id": "55fd4a18-a87c-43a8-9b93-1c0546d163c0",
   "metadata": {},
   "source": [
    "To get a better grasp of the number of combinations we have, let us explore a specific example.\n",
    "You are ordering a 3-topping pizza from your local pizza\n",
    "place but they only have 6 topping left because its late.\n",
    "The toppings are as follows:\n",
    "cheddar cheese, onions, green peppers, mushrooms,\n",
    "pepperoni and bacon.\n",
    "Your pizza can have 3 different toppings, or you can\n",
    "repeat a topping up to 3 times.\n",
    "You can either order a pizza with 3 different toppings, a\n",
    "pizza with 3 identical toppings or a pizza with 2 different\n",
    "toppings but having a double dose of one of them."
   ]
  },
  {
   "cell_type": "markdown",
   "id": "59127243-7c27-4d5b-9850-c76ee85d017f",
   "metadata": {},
   "source": [
    "Methodology"
   ]
  },
  {
   "cell_type": "markdown",
   "id": "53a94378-264a-4a43-8e48-559ee4985a8e",
   "metadata": {},
   "source": [
    "The methodology we use for such combinations is rather abstract. We like to represent each type of pizza with\n",
    "a special sequence of 0s and 1s. To do so, we first need to select a specific order for the available ingredients.\n",
    "\n",
    "We can reuse the order we wrote down earlier:\n",
    "    \n",
    "cheddar cheese, onions, green peppers, mushrooms, pepperoni and bacon.\n",
    "For convenience we can refer to each ingredient by the associated letter we have highlighted (e.g “c” means\n",
    "cheese, and “o” means onions).\n",
    "\n",
    "To construct the sequence for each unique type of pizza we follow 2 rules as we go through the ingredients in\n",
    "the order we wrote down earlier.\n",
    "\n",
    "1. If we want no more from a certain topping, we write a 0 and move to the next topping.\n",
    "\n",
    "2. If we want to include a certain topping, we write a 1 and stay on the same topping.\n",
    "\n",
    "• Not going to the next topping allows us to indicate if we want extra by adding another 1, before we\n",
    "move forward. Say, if we want our pizza to have extra cheese, the sequence would begin with “1, 1”.\n",
    "\n",
    "• Also, we always apply rule 1 before moving on to another topping, so the sequence will actually start with “1, 1, 0”."
   ]
  },
  {
   "cell_type": "markdown",
   "id": "9e6fb599-0eb4-498a-9333-6237db740891",
   "metadata": {},
   "source": [
    "Pizzas and Sequences"
   ]
  },
  {
   "cell_type": "raw",
   "id": "bae7d164-6ccc-4757-bb07-9d4ecda0e710",
   "metadata": {},
   "source": [
    "C      O      G      M     P         B\n",
    "1,0    0      0      0     1,1,0     0          \n",
    "0      1,0    1,0    1,0    0        0\n",
    "0      0      1,0    0      0        1,1,0"
   ]
  },
  {
   "cell_type": "markdown",
   "id": "f0c6526e-e9e5-4e7e-93c5-00a176ea32d8",
   "metadata": {},
   "source": [
    "If we need to write a “0” after each topping, then every sequence would consist of 6 zeroes and 3 ones\n",
    "\n",
    "Let’s look at some pizzas and the sequences they are\n",
    "expressed with.\n",
    "A pizza with cheese and extra peperoni is represented \n",
    "by the sequence 1,0,0,0,0,1,1,0,0.\n",
    "A vegan variety pizza with onions, green peppers and\n",
    "mushrooms would be represented by the sequence\n",
    "0,1,0,1,0,1,0,0,0.\n",
    "\n",
    "Now, what kind of pizza would the sequence \n",
    "0,0,1,0,0,0,1,1,0 represent?\n",
    "\n",
    "We can put the sequence into the table and see that it\n",
    "represents a pizza with green peppers and extra bacon"
   ]
  },
  {
   "cell_type": "markdown",
   "id": "5bd1d2ec-9c14-4fd0-9e49-82ca7b43a643",
   "metadata": {},
   "source": [
    "Always Ending in 0"
   ]
  },
  {
   "cell_type": "markdown",
   "id": "994fea77-df03-4ae8-99c7-d8354458da3d",
   "metadata": {},
   "source": [
    "Notice how all the sequences we have examined end on a 0:"
   ]
  },
  {
   "cell_type": "raw",
   "id": "ec1d592e-4a62-4703-90fc-678ebf4b7533",
   "metadata": {},
   "source": [
    "\n",
    "• 1,0,0,0,0,1,1,0,0\n",
    "• 0,1,0,1,0,1,0,0,0\n",
    "• 0,0,1,0,0,0,1,1,0"
   ]
  },
  {
   "cell_type": "markdown",
   "id": "056e2644-2e6b-4e95-afb5-64e019b81100",
   "metadata": {},
   "source": [
    "This is no coincidence, since according to rule 1 of our\n",
    "algorithm, we need to add a “0” at the end of the\n",
    "sequence, regardless of whether we wanted bacon or\n",
    "not.\n",
    "\n",
    "That means that only the first 8 elements of the\n",
    "sequence can take different values.\n",
    "\n",
    "Each pizza is characterized by the positions of the 3\n",
    "“1”s in the sequence. Since only 8 of the positions in\n",
    "the sequence can take a value of “1”, then the number \n",
    "of different pizzas would be the combination of any 3 \n",
    "of the 8 positions."
   ]
  },
  {
   "cell_type": "markdown",
   "id": "79127de5-43b1-4ea3-9791-fb95f641fbc6",
   "metadata": {},
   "source": [
    "Positions"
   ]
  },
  {
   "cell_type": "markdown",
   "id": "445f5327-ffaf-4675-86ca-b2efd8074f62",
   "metadata": {},
   "source": [
    "As stated before, we have 3 “1s” and 8 different positions. Therefore, the number of pizzas we can get would be\n",
    "the number of combinations of picking 3 elements out of a set of 8. This means we can transform combinations\n",
    "with repetition to combinations without repetition.\n",
    "\n",
    "𝐶ҧ6,3 = C(8,3)\n",
    "\n",
    "Let’s observe the values 3 and 8 for a moment and\n",
    "try to generalize the formula. “3” represents the\n",
    "amount of toppings we need to pick, so it is still\n",
    "equivalent to p.\n",
    "\n",
    "“8” represents the number of positions we have\n",
    "available for the ones. We had 3 + 6, or 9 positions in\n",
    "total, but we knew the last one could not contain a\n",
    "“1”. Thus, we had “n + p - 1” many positions that\n",
    "could contain a 1.\n",
    "\n",
    "𝐶ҧ𝑛, 𝑝 = C(n + p − 1, p)"
   ]
  },
  {
   "cell_type": "markdown",
   "id": "38d856ef-c5e5-46e7-b323-9ebd9e623b8d",
   "metadata": {},
   "source": [
    "The Final Step"
   ]
  },
  {
   "cell_type": "markdown",
   "id": "461b81fe-43c8-480b-b0a6-d69359137be5",
   "metadata": {},
   "source": [
    "Now that we know the relationship between the number of combinations with and without repetition, we can\n",
    "plug in “n+p-1” into the combinations without repetition formula to get:"
   ]
  },
  {
   "cell_type": "raw",
   "id": "38567e8e-e1a5-42f8-82b1-78bbd5a370ed",
   "metadata": {},
   "source": [
    "𝐶ҧ𝑛, 𝑝 = C n + p − 1, p =\n",
    "n + p − 1 !\n",
    "(n + p − 1) − p ! p!\n",
    "=\n",
    "n + p − 1 !\n",
    "n − 1 ! p!"
   ]
  },
  {
   "cell_type": "markdown",
   "id": "d4a0568c-9108-461b-a7b0-4d08bac8a354",
   "metadata": {},
   "source": [
    "This is the exact same formula we showed you at the beginning.\n",
    "Before we you continue to the next lecture, let’s make a quick recap of the algorithm and the formula.\n",
    "\n",
    "1. We started by ordering the possible values and expressing every combinations as a sequence.\n",
    "\n",
    "2. We examined that only certain elements of the sequence may differ.\n",
    "\n",
    "3. We concluded that every unique sequence can be expressed as a combination of the positions of the “1” values.\n",
    "\n",
    "4. We discovered a relationship between the formulas for combinations with and without repetition\n",
    "\n",
    "5. We used said relationship to create a general formula for combinations with repetition."
   ]
  },
  {
   "cell_type": "markdown",
   "id": "ee9a540d-19d3-419e-99e8-c7703ccc4097",
   "metadata": {},
   "source": [
    "### Symmetry of Combinations"
   ]
  },
  {
   "cell_type": "markdown",
   "id": "f18768cb-33a9-42dc-961c-8b54f8b8415b",
   "metadata": {},
   "source": [
    "##### Unlike pemutations and variations , picking more elements can lead to fewer combinations.\n",
    "##### Imagine you are going on a picnic and you have 6 pieces of fruits you want to take with you,\n",
    "##### however your bascket only has room for 4 of them, using the combination formula, we are going \n",
    "##### to have 15 possible choices,C64 = 15.\n",
    "##### you went out and bought a bigger basket but it could only fit 5 pieces of fruit,according to \n",
    "##### the formula, there are just 6 ways of picking the 5 fruits, you went out again to buy another\n",
    "##### bigger bucket and that can fit in 6 fruits , in how many ways can you pick 6 fruits out of 6 fruits?\n",
    "##### C6-6 = 1, you have one possible way of picking all of them.\n",
    "##### Picking more elements leads to having fewer combinations, this is because we can construct the question \n",
    "##### in a different way, instead of picking whih piecees of fruit to take,we can choose the pieces to leave behind,\n",
    "##### Therefore picking 4 fruits out of 6 is same as picking two fruits that will be left out.\n",
    "##### mathematically, selecting 2 elements out of 6 equals to 6 factorial over 2 factorial multiplied by 4 factorial equals to 15\n",
    "##### C6;2 = 6! / 2 ! x 4! = 15\n",
    "##### Picking 5 fruits is the same as choosing 1 fruit that will be left behind\n",
    "##### C6:1 = 6! / 1! x 5! = 6\n",
    "##### In a general case , we can pick P- many elements in many ways as we can pick n - p many elements.\n",
    "##### This shows us that when it comes to combinations, the number of possible ways in which p - many elements can be\n",
    "##### selected is symmetric with respect to n over 2\n",
    "##### C^n^p = C^n n-p\n",
    "##### REcall the example where we had to select 3 of our 10 employees to represent the company in a Technology conference\n",
    "##### As we showed earlier ,there are 120 possible selections . C 10 ^ 3 = 120\n",
    "##### What if instead of choosing 3 we had to pick 7 persons to go to the conference.\n",
    "##### Using the formula we defined in the last lecture, the number of combination we will have is 10! over 7! x 3! \n",
    "##### Mathematically, Cn^p = n! / P! (n - P)!  \n",
    "##### C10^7 = 10! / 7! 3! = 8 x9 x10  /1 x2 x 3 = 720 / 6  = 120\n",
    "##### Thus we will also have 120 different ways of picking the 7 employees.\n",
    "##### That is because picking 7 out of the 10 employees to take to the comference is same as choosing 3 out of the \n",
    "##### 10 to leave behind."
   ]
  },
  {
   "cell_type": "markdown",
   "id": "148bc444-9846-4ef8-be9c-1b8f0d25929e",
   "metadata": {},
   "source": [
    "##### Symmetry \n",
    "##### To sum up when P > n/ 2 > n-P ( n- p will be smaller than p), in such instances we can apply symmetry to avoid calculating factorial of large numbers\n",
    "##### Generally we use symmetry to simplify the calculation we need to make."
   ]
  },
  {
   "cell_type": "markdown",
   "id": "360f6eaa-cdd1-45ea-9960-fb3beb12a004",
   "metadata": {},
   "source": [
    "### Combinations with Seperate Sample Spaces"
   ]
  },
  {
   "cell_type": "markdown",
   "id": "2c5c3a84-1f46-4fc4-ab39-427313578258",
   "metadata": {},
   "source": [
    "##### A new type of combinations\n",
    "##### Sometimes a Combination can be a mixture of smaller individual events.\n",
    "##### Imagine the following scenaria the Dinner Resturant introduced a lunch menu which consists of a sandwich, a drink and a side.\n",
    "##### Assuming you go there everyday, how long will it take for you to try out every possible item in the menu\n",
    "##### To solve this ,you need to know what is included in a lunch tier, they are sandwich , a side and a drink\n",
    "##### They offer 3 types of sandwiches, openimi,afilichilistake and avegira, the sides they have available are \n",
    "##### fries and onions pallete, drinks they offer are coke or water.\n",
    "##### To solve this problem, we need to think about the different parts of the menu as seperate position.\n",
    "##### If we start by choosing a sandwich first , we have 3 options for each of them, we can take one of two sides\n",
    "##### Fries or onion pallete,to complete our menu , we will also have to add a drink and it can either be watrer or coke\n",
    "##### Therefore for any combination of sandwich and side , we have 2 ways of completing the menu\n",
    "##### WE have a total of 3 dishes x 2 sides x 2 drinks which is qeual to 12 different lunch menu at the dinner resturant.\n",
    "##### 3 x 2 x 2 = 12."
   ]
  },
  {
   "cell_type": "markdown",
   "id": "9f3941a6-a512-45b2-af23-098dcf630a79",
   "metadata": {},
   "source": [
    "##### In online marketing , you need to try out the several version of an online ad before you decide which one is the best\n",
    "##### Imagine you are using facebook promotinal advertisement, your ad consists of 4 parts , a heading , a thumbnail, post \n",
    "##### description and button.\n",
    "##### you have 3 headings, 3 post discriptions , 5 thumb nails and 2 buttons\n",
    "##### How many different ads would you have to do to make sure you tried all possibilities\n",
    "##### Using the method we showed earlier , that will require you to try out the following \n",
    "##### 3 x 5 x 3 x 2 = 90 different ads, ths is important because it shows us how many different possibilities there are.\n",
    "##### despite the part seems limited.\n",
    "##### Further more , this allows projects managers to determine the appropriate amount of time it will take for such a task to be completed.\n",
    "##### When there components are simply too many they can remove several of the options so as to tremenduosly decrease the workload.\n",
    "##### The way of calculationg the total number of combinations is by multiplying the number of options availabe\n",
    "##### for each indicidual event ie a x b x c."
   ]
  },
  {
   "cell_type": "markdown",
   "id": "cc7f5f5b-362d-4a81-805e-0c80a1f6e5a9",
   "metadata": {},
   "source": [
    "### Winning the Lottery"
   ]
  },
  {
   "cell_type": "markdown",
   "id": "47876a56-5618-4301-acb7-d1a0c6baf5bb",
   "metadata": {},
   "source": [
    "##### in the beginning of the course we spoke about winning the lottery but we didnt go through any actual calculations.\n",
    "##### lets define the rules of this lottery,\n",
    "##### 1. we need to pick 5 numbers between 1 - 69 \n",
    "##### 2. A power ball number betwen 1 - 26\n",
    "##### The likely hood of 2 independent events occuring simultaneously equals the product of their indivdual probabilities.\n",
    "##### In this case, 'one of them will be guessing the power ball number'\n",
    "##### the other will be getting the correct 5 numbers (1 , 4, 5, 9 ,8 )\n",
    "##### Picking our power ball number(5), since there is only one favourable outcome, the chances of we picking the correct\n",
    "##### 'power ball' number is  1/ 26.\n",
    "##### How about picking 5 numbers out of 69 ?\n",
    "##### As you know , order does not matter with lottery numbers, so we will have to use combinations.\n",
    "##### obviously, we cannot have thesame values twice, this means we are dealing with combinations without repetition.\n",
    "##### Therefore, let's apply the relevant formula:   C^n,p = n! /P! (n -p)!  n = 69, P = 5\n",
    "##### This suggests that the total number of possible ways to pick our 5 numbers is \n",
    "##### C ^69,5 = 69! / 5! (69 - 5)! = 69! / 5! 64!  = 69 x 68 x 67 x 66 x 65 / 5 x 4 x 3 x 2 x 1 =\n",
    "##### 11,200,000 plus . C^69,5 > 11,000,000\n",
    "##### this means we will have more than 11,000,000 chance of correctly guessing our 5 numbers\n",
    "##### P(5 numbers) < 1 / 11,000,000\n",
    "##### To win the grand price , we will also have to correctly guess the 'Power ball'number\n",
    "##### So guessing all the numbers correctly becomes 26 times less likely.\n",
    "##### Therefore there are almost 300,000,000 different possibe outcomes\n",
    "##### P = 1 / 11,000,000 x 1 /26 = 300,000,000\n",
    "##### To get the probabilty of winning we need two pieces of information\n",
    "##### Number of favourable outcomes\n",
    "##### Number of all possible outcome\n",
    "##### Number of favourable outcome = number of tickets we buy\n",
    "##### Number of possible outcome is 300,000,000\n",
    "##### Asumming we participate with a single ticket, we can calculate the probality of winning\n",
    "##### using the  'favourable overall formula'\n",
    "##### P(lottery) = 1 /300,000,000\n",
    "##### In other words , the probability of winning the lottery with a single ticket is slightly above\n",
    "##### p (lottery) = 0.000000003\n",
    "##### In summary,two events have to happen for us to win thebig jacpot, \n",
    "##### 1. Getting the correct 5 numbers\n",
    "##### 2. Guessing the correct 'PowerBall' number ."
   ]
  },
  {
   "cell_type": "markdown",
   "id": "add697bd-2825-42f3-94ff-00f1ed9decfc",
   "metadata": {},
   "source": [
    "### Summary of combinatorics"
   ]
  },
  {
   "cell_type": "markdown",
   "id": "0499db43-b485-43e5-a4b2-3cdf45b66f82",
   "metadata": {},
   "source": [
    "##### We will summarize all we have learnt so far:\n",
    "##### We use Pemutations with Variations when we want to arrange a set of objects\n",
    "##### in such cases the order in which we pick them is crucial\n",
    "##### Major difference between Pemutations and Variations\n",
    "##### (i) In pemutations, you always arrange the entire set of elements in the sample space,\n",
    "##### for instance, when we needed to arrange our 4 runners we already chosen for our relay, \n",
    "##### we used pemutations . \n",
    "##### We have 4 runners and 4 positions, so we rely on pemutations\n",
    "##### (i) If however we have to pick 4 out of 6 people on a team and they decide who runs which leg\n",
    "##### we will require using variation\n",
    "\n",
    "##### Alternatively ,if we care about which 4 out of the 6 runners made it into the team, we will\n",
    "##### be dealing with Combination.\n",
    "##### In this situation, we do not care who runs each leg and order is irrelevant."
   ]
  },
  {
   "cell_type": "markdown",
   "id": "3eae9d24-12ac-44f9-99b1-d5ac971c2c1f",
   "metadata": {},
   "source": [
    "##### We also discussed, two types of Variation and Combination,\n",
    "##### With and without Repetition\n",
    "##### When we explored those without Repetition, we saw a clear relationship between Pemutation, Variation and Combination.\n",
    "##### C = V / P ie the number of Combinations equals the number of Variation divided by the number of Pemutation.\n",
    "##### This is because we count a Pemutation of a single set of number as a single combination but as seperate variation."
   ]
  },
  {
   "cell_type": "markdown",
   "id": "52d835e1-3b29-423e-aaeb-840241347520",
   "metadata": {},
   "source": [
    "##### We also defined formulas we used to compute thier values:\n",
    "##### pemutation formula  :  Pn = n!\n",
    "##### Variation :  V^n,p = n! / (n - P)!\n",
    "##### Combination : n! / p! (n - p)!"
   ]
  },
  {
   "cell_type": "markdown",
   "id": "78f4c8fb-9ea0-4172-8157-1c2c6d4d205d",
   "metadata": {},
   "source": [
    "##### Note, that these formulas change when we include repeating values\n",
    "##### Variation:  Vbar ^n,p = n^p\n",
    "##### Combination :  C bar n^p = (n + P -1 )! / P! (n -1)!"
   ]
  },
  {
   "cell_type": "markdown",
   "id": "249c63a0-7d0e-4225-8c95-dd7ef9feef39",
   "metadata": {},
   "source": [
    "##### We spoke about how Combinations are symmetric, choosing P-many elements out of a set of n - many elements\n",
    "##### can be done in the exact same way as choosing n-P many elements.\n",
    "##### Mathematically represented with the formula below:\n",
    "##### C ^ n, p = C ^n ,n-P ie C raise to power n over p is equal to C raise to power n diided by n minus P.\n",
    "##### The reason is we can reverse the problem and actually choose the element to be omitted."
   ]
  },
  {
   "cell_type": "markdown",
   "id": "80bf463c-cf1b-47cb-a63d-92eb6f0624d2",
   "metadata": {},
   "source": [
    "### Practical examples-combinatorics"
   ]
  },
  {
   "cell_type": "markdown",
   "id": "5a9d0de3-707e-4314-aebc-ebeb9140ab8c",
   "metadata": {},
   "source": [
    "How to apply a probalitical approach and get into an analytical mindset.\n",
    "\n",
    "Ordering something nobody has ordered before : \n",
    "You and your friend Amy wants to order some damino pizza. "
   ]
  },
  {
   "cell_type": "markdown",
   "id": "85b8eff2-cb66-4307-97b6-9c5b8a42d26f",
   "metadata": {},
   "source": [
    "you opened the damino's app on your phone and saw that the store that delivers to your home offers :\n",
    "\n",
    "One person's combo park, family deal and  double delight."
   ]
  },
  {
   "cell_type": "markdown",
   "id": "eadc640e-8d7c-42a8-8bd3-53b838d13679",
   "metadata": {},
   "source": [
    "the first one consists of 1 medium pizza, 1 dessert and 1 small drink for $15.99,\n",
    " \n",
    "the family deal contains 2 medium pizzas, a small drink, a large drink and 2 dessert for $25.99,\n"
   ]
  },
  {
   "cell_type": "markdown",
   "id": "b7651063-e11e-4c4b-b1e0-54b5f68d4ac3",
   "metadata": {},
   "source": [
    "lastly,the double delight contains 2 medium pizzas, 2 large drinks and 2 medium desserts and cost $27.99, the only difference been the two drinks are both large."
   ]
  },
  {
   "cell_type": "markdown",
   "id": "135ed11a-d6f0-47f2-a5ca-02c8be272007",
   "metadata": {},
   "source": [
    "##### Before picking a specific deal, you pull up the menu to explore the options, you saw a variety of 26 different pizzas and 4 drinks as well as 7 types of desserts.\n",
    "##### Initially ,Amy says she is not hungry so you look at the 1 person combo pack, to construct such a menu, you need to combine 3 elements, 1 pizza, 1 small drink and\n",
    "##### 1 dessert.\n",
    "##### Since all of these have distinct sample spaces,you need to consider every part of the menu as a seperate position.\n",
    "##### Daminos offers 26 pizzas which means there are 26 different ways we can choose our pizzas, similarly we have 4 ways to pick our drink and 7 ways to pick our dessert.\n",
    "##### This scenario is similsr to the examples discussed before when we had to construct a lunch menu out of a sandwich, a side and a drink.\n",
    "##### therefore, we know how to find different number of combinations.\n",
    "##### We simply multiply the size of the sample space for each position, ie 26 x 4 x 7 = 728 possible ways to chose your meal.We use multiplication sign here because \n",
    "##### regardless of any of the 26 pizzas we get,we can accompany it with any of the 4 "
   ]
  },
  {
   "cell_type": "markdown",
   "id": "fb08559d-112f-4630-b499-12fff30130a3",
   "metadata": {},
   "source": [
    "##### Fascinated by the huge varieties, your friend Amy reconsiders and decided to get some foods not because she is hungry but because she wants to play the combination game\n",
    "##### and increase the number of options you have, hence you are compeled to get one of the larger deals, the family deal or the double delight.\n",
    "##### Amy states that since you are getting 2 pizzas now , you can get different ones and exchange slices, further more she proclaims that since we are ordering two of each type of the meal, we now have 8 times as many options.\n",
    "##### Having recently mastered combinatorics, you decided to test if her statement holds true,\n",
    "##### To do so , you must compute the different menu you can order for each of the other 2 deals.\n",
    "##### You examined the family deal they offered first, recall it contains 2 pizzas, 1 large drink, 1 small drink, 2 desserts at $25.99\n",
    "##### Once again you decided to get different pizzas to get the most out of your deal,since the drinks various size and desset is small, you decided to make no such commitments about the other two ingredients.\n",
    "##### let's first look at the pizzas you can choose, since you are splitting the two among one another no order is involved in this decision\n",
    "##### hence ,you will be using combination without repetition to determine the number of pizza options this deal provides."
   ]
  },
  {
   "cell_type": "markdown",
   "id": "c8dcb194-758f-4f9e-8dd5-32f75a7d86e0",
   "metadata": {},
   "source": [
    "##### Applying the formula we have leanrt before on how to calculate combinations without repetition\n",
    "##### C^n/p = C24/2  = 26! / 24! x 2!  = 25 x 26 / 1 x 2 = 325\n",
    "##### this shows that there are 325 different ways of picking the pizzas,this is a much greater variety\n",
    "##### than the 26 we had earlier.\n",
    "##### Now for the drinks you can both order thesame one, so repetition is allowed,furthermore ,since \n",
    "##### it matters which drink is larger this matter requires using variations so we will apply the \n",
    "##### formula for variations with repetition for picking 2 out of the 4 available options.by plugging it down using the formula , we see that we have 4^2\n",
    "##### V bar^4/2 = 4^2 = 16, this gives us 16 options for the drinks."
   ]
  },
  {
   "cell_type": "markdown",
   "id": "62c54878-1b62-43e1-a6ca-8c648a33b168",
   "metadata": {},
   "source": [
    "##### Alternatively, you can think of this as combination of two events with seperate sample spaces, by doing so we get  two events both of which have sample spaces of size 4 x 4,as we can expect the answer will remain thesame since 4 multiplied by 4 is 16.\n",
    "##### Once again we have much more variety compared to the first deal which is 4 (16 > 4).\n",
    "##### Lastly you reach the dessert, just like the drink you did not agree to get different ones so you acn get ice cream, if you end up orderin g different ones, it matters to you who gets one. for instance if amy wants the choco pizza and you want the Brownie bites\n",
    "##### is crucial who gets each one ,so must we use Variations with repetition here ?, well not really because dominos doesnt need to know who the 2 dessets are for, they just put it in the bag and let you distribute it among yourselves.In such a case you will take \n",
    "##### the choco pizzas ansd brownnie bites regardless of who wants which among yourselves.\n",
    "##### we are dealing with combinations without repetition instead of variations with repetition.\n",
    "##### Recall the formula for combination with repetition. C bar ^n different ways we can use P elements,\n",
    "##### Cbar ^n/P = ( n + P -1 )! / P! ( n - 1 )! \n",
    "##### Since we are picking 2 desserts out of 7 ,we can plug in the values \n",
    "##### C bar ^7 /2  = (7 + 2 - 1)! /2 ( 7 -1)! =  8! / 2! 6! =\n",
    "##### 8 x 7 x 6 x 5 x 4 x 3 x 2 x 1 / 6 x 5  x 4 x 3 x 2 x 1 = \n",
    "##### 8 x 7 / 1 x 2  = 56 / 2 = 28 .\n",
    "##### Therefore there are 28 different wys to pick our 2 desserts out of the menu.\n",
    "##### In summary , we have 325 different ways of choosing our pizzas, 16 options for our drinks and 28 combinations of desserts we can order\n",
    "##### Hence ,we need to multiply 325 x 16 x 28 = 145,600 different options for this deal.\n",
    "##### That is alot of varieties and is definitely more than 728 options we can get with the first deal\n",
    "##### 146,600 >  8 x 728, hence , we have 8 times as many options, hence ,Amy was wrong after all."
   ]
  },
  {
   "cell_type": "markdown",
   "id": "9510c0cf-7f7c-46c3-8b63-5802cacb82e9",
   "metadata": {},
   "source": [
    "##### Before you go through with choosing your order ,is good to go through the 3rd deal to make sure you are choosing the order with the most variety.\n",
    "##### The double delight contains the same number of pizzas and desserts as the family deal,therefore you already know you have 325 ways of choosing the pizzas and 28 ways of choosing the desserts, you only have to setimate the number of ways to pick the beverages that goes with your order\n",
    "##### The drinks are large ,just like the pizzas, you can decide to get differnt ones since we can share,coco cola is still running the campaign were they put labels on each bottle, so it matters who gets each drink, for instance if you want a coke and Amy wants a sprite, you will not want\n",
    "##### the coca cola label to have her name instead  of yours.\n",
    "##### Therefore it is important how you order the two beverages and the special dirrections you leave for the delivery, this suggests you must use variations without repetition to determine the appropriate number of possibilities.\n",
    "##### According the formula we introduced earlier, the number of ways will be \n",
    "##### V ^n/ p = V ^4/ 2 = 4! / 2!  = 3 x 4 = 12\n",
    "##### Hence , you have 12 different ways of getting your drink\n",
    "##### Since there are 325 ways of selecting the pizzas, 12 ways of picking the drinks and 28 ways of picking the desserts, this gives you 109,200 distinct possible orderds you can make.\n",
    "##### 109,200 > 8 x 728 possibe ways you can get with the first deal\n",
    "##### hence, ordering much food results in having much greater varieties\n",
    "##### beacuse 145,600 > 109,200  you decided to go with the family deal instead of the double delight because of the greater varieties it provides.\n",
    "##### Even though the only difference between the two options is the size of one drink , it resulted in we having 36,400 more options.\n",
    "##### This is a perfect example of how small changes can severely expand the possible number of outcomes we have.\n",
    "##### This only goes to show that when using combinatorics,detailing is important because every small detail matters."
   ]
  },
  {
   "cell_type": "code",
   "execution_count": null,
   "id": "6ee3b214-875e-4f00-8a26-82de53cdd40a",
   "metadata": {},
   "outputs": [],
   "source": []
  }
 ],
 "metadata": {
  "kernelspec": {
   "display_name": "Python 3 (ipykernel)",
   "language": "python",
   "name": "python3"
  },
  "language_info": {
   "codemirror_mode": {
    "name": "ipython",
    "version": 3
   },
   "file_extension": ".py",
   "mimetype": "text/x-python",
   "name": "python",
   "nbconvert_exporter": "python",
   "pygments_lexer": "ipython3",
   "version": "3.9.7"
  }
 },
 "nbformat": 4,
 "nbformat_minor": 5
}
